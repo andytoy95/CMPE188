{
 "cells": [
  {
   "cell_type": "code",
   "execution_count": null,
   "metadata": {},
   "outputs": [],
   "source": [
    "import numpy as np\n",
    "import pandas as pd\n",
    "import nltk\n",
    "from nltk.sentiment.vader import SentimentIntensityAnalyzer"
   ]
  },
  {
   "cell_type": "code",
   "execution_count": null,
   "metadata": {
    "scrolled": true
   },
   "outputs": [],
   "source": [
    "data = pd.read_csv('reviews_detail.csv')\n",
    "data['comments'].replace('', np.nan, inplace = True)\n",
    "data.dropna(subset = ['comments'], inplace = True)\n",
    "\n",
    "data.to_csv('reviews_detail_updated.csv')\n",
    "data = pd.read_csv('reviews_detail_updated.csv')\n",
    "comments = data['comments']\n",
    "\n",
    "rating = [] #store ratings {'good, 'bad', 'okay}\n",
    "unique_id = [] #store unique listing ID's\n",
    "unique_id_compound = []\n",
    "organized_rating = []\n",
    "list_data = data['listing_id']\n",
    "\n",
    "sid = SentimentIntensityAnalyzer()"
   ]
  },
  {
   "cell_type": "code",
   "execution_count": null,
   "metadata": {},
   "outputs": [],
   "source": [
    "for id in list_data:\n",
    "        if(id not in unique_id):\n",
    "            unique_id.append(id)"
   ]
  },
  {
   "cell_type": "code",
   "execution_count": null,
   "metadata": {
    "scrolled": true
   },
   "outputs": [],
   "source": [
    "j = 0\n",
    "i = 0\n",
    "item_count = 0\n",
    "total_compound = 0\n",
    "average = 0.0\n",
    "for comment in data['comments']: \n",
    "    ss = sid.polarity_scores(comment)\n",
    "    for k in ss:\n",
    "        if (k == 'compound'):\n",
    "            if((list_data[j] == unique_id[i]) and (j != len(list_data) - 1)):\n",
    "                total_compound = total_compound + ss['compound']\n",
    "            else:\n",
    "                average = total_compound / item_count\n",
    "                unique_id_compound.append(average)\n",
    "                #print(\"ID: \" + str(unique_id[i]) + \" Compound: \" + str(average))\n",
    "                item_count = 0\n",
    "                total_compound  = 0\n",
    "                total_compound = total_compound + ss['compound']\n",
    "                i = i  + 1\n",
    "            item_count = item_count + 1\n",
    "            j = j + 1\n",
    "    #print(\"\\n\")"
   ]
  },
  {
   "cell_type": "code",
   "execution_count": null,
   "metadata": {},
   "outputs": [],
   "source": [
    "count = 0\n",
    "for compound in unique_id_compound:\n",
    "    count = count + 1\n",
    "    if compound >= 0.4:\n",
    "        rating.append('good')\n",
    "    elif compound <= -0.2:\n",
    "        rating.append('bad')\n",
    "    else:\n",
    "        rating.append('okay')\n",
    "#print(len(unique_id_compound))"
   ]
  },
  {
   "cell_type": "code",
   "execution_count": null,
   "metadata": {},
   "outputs": [],
   "source": [
    "data = pd.read_csv('listings_summary.csv')\n",
    "listing_id = data['id']\n",
    "\n",
    "organized_rating = []\n",
    "for id in listing_id:\n",
    "    i = 0\n",
    "    matched = False\n",
    "    for u_id in unique_id:\n",
    "        if(id == u_id):\n",
    "            organized_rating.append(rating[i])\n",
    "            matched = True\n",
    "        elif(i == (len(unique_id) - 1) and matched != True):\n",
    "            organized_rating.append(None)\n",
    "        i = i + 1"
   ]
  },
  {
   "cell_type": "code",
   "execution_count": null,
   "metadata": {},
   "outputs": [],
   "source": [
    "ratings_column = pd.DataFrame({'Rating': organized_rating}) #Creat new column with ratings\n",
    "ratings_data = data.merge(ratings_column, left_index = True, right_index = True)\n",
    "ratings_data.to_csv('Reviews.csv')\n",
    "\n",
    "data = pd.read_csv('Reviews.csv')\n",
    "data['Rating'].replace('', np.nan, inplace = True)\n",
    "data.dropna(subset = ['Rating'], inplace = True)\n",
    "\n",
    "data.to_csv('Reviews.csv')"
   ]
  },
  {
   "cell_type": "code",
   "execution_count": null,
   "metadata": {},
   "outputs": [],
   "source": [
    "organized_accommodates = []\n",
    "organized_bathrooms = []\n",
    "organized_bedrooms = []\n",
    "organized_beds = []\n",
    "\n",
    "data = pd.read_csv('details.csv')\n",
    "details_id = data['ID']\n",
    "accommodates = data['accommodates']\n",
    "bathrooms = data['bathrooms']\n",
    "bedrooms = data['bedrooms']\n",
    "beds = data['beds']\n",
    "\n",
    "for id in details_id:\n",
    "    i = 0\n",
    "    matched = False\n",
    "    for u_id in unique_id:\n",
    "        if(id == u_id):\n",
    "            organized_accommodates.append(accommodates[i])\n",
    "            organized_bathrooms.append(bathrooms[i])\n",
    "            organized_bedrooms.append(bedrooms[i])\n",
    "            organized_beds.append(beds[i])\n",
    "            matched = True\n",
    "        elif(i == (len(unique_id) - 1) and matched != True):\n",
    "            organized_accommodates.append(None)\n",
    "            organized_bathrooms.append(None)\n",
    "            organized_bedrooms.append(None)\n",
    "            organized_beds.append(None)\n",
    "        i = i + 1"
   ]
  },
  {
   "cell_type": "code",
   "execution_count": null,
   "metadata": {},
   "outputs": [],
   "source": [
    "data = pd.read_csv('Reviews.csv')\n",
    "accommodates_column = pd.DataFrame({'accommodates': organized_accommodates})\n",
    "accommodates_data = data.merge(accommodates_column, left_index = True, right_index = True)\n",
    "accommodates_data.to_csv('Reviews.csv')\n",
    "\n",
    "data = pd.read_csv('Reviews.csv')\n",
    "bathrooms_column = pd.DataFrame({'bathrooms': organized_bathrooms})\n",
    "bathrooms_data = data.merge(bathrooms_column, left_index = True, right_index = True)\n",
    "bathrooms_data.to_csv('Reviews.csv')\n",
    "\n",
    "data = pd.read_csv('Reviews.csv')\n",
    "bedrooms_column = pd.DataFrame({'bedrooms': organized_bedrooms})\n",
    "bedrooms_data = data.merge(bedrooms_column, left_index = True, right_index = True)\n",
    "bedrooms_data.to_csv('Reviews.csv')\n",
    "\n",
    "data = pd.read_csv('Reviews.csv')\n",
    "beds_column = pd.DataFrame({'beds': organized_beds})\n",
    "beds_data = data.merge(beds_column, left_index = True, right_index = True)\n",
    "beds_data.to_csv('Reviews.csv')\n",
    "\n",
    "data = pd.read_csv('Reviews.csv')\n",
    "data['accommodates'].replace('', np.nan, inplace = True)\n",
    "data.dropna(subset = ['accommodates'], inplace = True)\n",
    "data.to_csv('Reviews.csv')"
   ]
  },
  {
   "cell_type": "code",
   "execution_count": null,
   "metadata": {},
   "outputs": [],
   "source": [
    "data = pd.read_csv('Reviews.csv')\n",
    "keep_col = ['id', 'neighbourhood_group', 'neighbourhood', 'room_type', 'price', 'number_of_reviews', \n",
    "            'accommodates', 'bathrooms', 'bedrooms', 'beds', 'Rating']\n",
    "new_col = data[keep_col]\n",
    "new_col.to_csv(\"Reviews Final.csv\", index=False)"
   ]
  },
  {
   "cell_type": "code",
   "execution_count": null,
   "metadata": {},
   "outputs": [],
   "source": []
  }
 ],
 "metadata": {
  "kernelspec": {
   "display_name": "Python 3",
   "language": "python",
   "name": "python3"
  },
  "language_info": {
   "codemirror_mode": {
    "name": "ipython",
    "version": 3
   },
   "file_extension": ".py",
   "mimetype": "text/x-python",
   "name": "python",
   "nbconvert_exporter": "python",
   "pygments_lexer": "ipython3",
   "version": "3.6.4"
  }
 },
 "nbformat": 4,
 "nbformat_minor": 2
}
