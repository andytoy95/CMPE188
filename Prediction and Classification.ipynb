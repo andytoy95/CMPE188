{
 "cells": [
  {
   "cell_type": "code",
   "execution_count": null,
   "metadata": {},
   "outputs": [],
   "source": [
    "import pandas as pd\n",
    "import numpy as np\n",
    "from sklearn.tree import DecisionTreeClassifier #This is the library that implements the Decision Tree classifier \n",
    "from sklearn.model_selection import train_test_split #used to split the dataset into training and test data\n",
    "from sklearn.externals.six import StringIO\n",
    "from sklearn.preprocessing import OneHotEncoder\n",
    "from sklearn.preprocessing import LabelEncoder\n",
    "from sklearn import model_selection\n",
    "from sklearn.ensemble import BaggingClassifier\n",
    "import matplotlib.pyplot as plt\n",
    "\n",
    "\n",
    "from sklearn.ensemble import RandomForestClassifier\n",
    "from sklearn.neighbors import KNeighborsClassifier"
   ]
  },
  {
   "cell_type": "code",
   "execution_count": null,
   "metadata": {},
   "outputs": [],
   "source": [
    "data = pd.read_csv(\"Reviews Final.csv\")"
   ]
  },
  {
   "cell_type": "code",
   "execution_count": null,
   "metadata": {},
   "outputs": [],
   "source": [
    "#isolate target class\n",
    "target = data.drop(columns =['id', 'neighbourhood_group', 'neighbourhood', 'room_type', 'price', 'number_of_reviews', \n",
    "                             'accommodates', 'bathrooms', 'bedrooms', 'beds'])"
   ]
  },
  {
   "cell_type": "code",
   "execution_count": null,
   "metadata": {},
   "outputs": [],
   "source": [
    "#isolate features\n",
    "features = data.drop(columns = ['Rating'])"
   ]
  },
  {
   "cell_type": "code",
   "execution_count": null,
   "metadata": {},
   "outputs": [],
   "source": [
    "#transform categorical features into numerical \n",
    "label = LabelEncoder()\n",
    "features2 = features.apply(label.fit_transform)\n",
    "data2 = data.apply(label.fit_transform)"
   ]
  },
  {
   "cell_type": "code",
   "execution_count": null,
   "metadata": {},
   "outputs": [],
   "source": [
    "#used for crossfold validation and bagging\n",
    "crossfold_values = data2.values\n",
    "crossfold_features = crossfold_values[:,0:10]\n",
    "crossfold_target = crossfold_values[:,10]\n",
    "seed = 7\n",
    "kfold = model_selection.KFold(n_splits=10, random_state=seed)"
   ]
  },
  {
   "cell_type": "code",
   "execution_count": null,
   "metadata": {},
   "outputs": [],
   "source": [
    "#split data into training set and testing sit (70% training, 30% testing)\n",
    "feature_train, feature_test, target_train, target_test = train_test_split(features2, target, test_size = 0.30, random_state = 0)"
   ]
  },
  {
   "cell_type": "markdown",
   "metadata": {},
   "source": [
    "#Test Cases Below"
   ]
  },
  {
   "cell_type": "code",
   "execution_count": null,
   "metadata": {},
   "outputs": [],
   "source": [
    "#decision tree testing\n",
    "tree = DecisionTreeClassifier(criterion = 'entropy', random_state = 0)\n",
    "tree.fit(feature_train, target_train)\n",
    "\n",
    "# tree = DecisionTreeClassifier()\n",
    "print(\"Accuracy on training set: {:.3f}\".format(tree.score(feature_train, target_train)))\n",
    "print(\"Accuracy on test set: {:.3f}\".format(tree.score(feature_test, target_test)))\n",
    "\n",
    "results = model_selection.cross_val_score(tree, crossfold_features, crossfold_target, cv=kfold)\n",
    "print(results.mean())"
   ]
  },
  {
   "cell_type": "code",
   "execution_count": null,
   "metadata": {},
   "outputs": [],
   "source": [
    "#tree with max depth 3\n",
    "tree = DecisionTreeClassifier(max_depth=3, random_state=0, criterion = 'entropy')\n",
    "tree.fit(feature_train, target_train)\n",
    "\n",
    "print(\"Accuracy on training set: {:.3f}\".format(tree.score(feature_train, target_train)))\n",
    "print(\"Accuracy on test set: {:.3f}\".format(tree.score(feature_test, target_test)))\n",
    "\n",
    "results = model_selection.cross_val_score(tree, crossfold_features, crossfold_target, cv=kfold)\n",
    "print(results.mean())"
   ]
  },
  {
   "cell_type": "code",
   "execution_count": null,
   "metadata": {
    "scrolled": true
   },
   "outputs": [],
   "source": [
    "#tree with max depth 4\n",
    "tree = DecisionTreeClassifier(max_depth=4, random_state=0, criterion = 'entropy')\n",
    "tree.fit(feature_train, target_train)\n",
    "\n",
    "print(\"Accuracy on training set: {:.3f}\".format(tree.score(feature_train, target_train)))\n",
    "print(\"Accuracy on test set: {:.3f}\".format(tree.score(feature_test, target_test)))\n",
    "\n",
    "results = model_selection.cross_val_score(tree, crossfold_features, crossfold_target, cv=kfold)\n",
    "print(results.mean())"
   ]
  },
  {
   "cell_type": "code",
   "execution_count": null,
   "metadata": {},
   "outputs": [],
   "source": [
    "#tree with max depth 5\n",
    "tree = DecisionTreeClassifier(max_depth=5, random_state=0, criterion = 'entropy')\n",
    "tree.fit(feature_train, target_train)\n",
    "\n",
    "print(\"Accuracy on training set: {:.3f}\".format(tree.score(feature_train, target_train)))\n",
    "print(\"Accuracy on test set: {:.3f}\".format(tree.score(feature_test, target_test)))\n",
    "\n",
    "results = model_selection.cross_val_score(tree, crossfold_features, crossfold_target, cv=kfold)\n",
    "print(results.mean())"
   ]
  },
  {
   "cell_type": "code",
   "execution_count": null,
   "metadata": {},
   "outputs": [],
   "source": [
    "#tree with max depth 6\n",
    "tree = DecisionTreeClassifier(max_depth=6, random_state=0, criterion = 'entropy')\n",
    "tree.fit(feature_train, target_train)\n",
    "\n",
    "print(\"Accuracy on training set: {:.3f}\".format(tree.score(feature_train, target_train)))\n",
    "print(\"Accuracy on test set: {:.3f}\".format(tree.score(feature_test, target_test)))\n",
    "\n",
    "results = model_selection.cross_val_score(tree, crossfold_features, crossfold_target, cv=kfold)\n",
    "print(results.mean())"
   ]
  },
  {
   "cell_type": "code",
   "execution_count": null,
   "metadata": {},
   "outputs": [],
   "source": [
    "#tree with stopping criteria min_impurity_decrease\n",
    "tree = DecisionTreeClassifier(min_impurity_decrease = .3) #change to whatever you want to test\n",
    "tree.fit(feature_train, target_train)\n",
    "\n",
    "print(\"Accuracy on training set: {:.3f}\".format(tree.score(feature_train, target_train)))\n",
    "print(\"Accuracy on test set: {:.3f}\".format(tree.score(feature_test, target_test)))\n",
    "\n",
    "results = model_selection.cross_val_score(tree, crossfold_features, crossfold_target, cv=kfold)\n",
    "print(results.mean())"
   ]
  },
  {
   "cell_type": "code",
   "execution_count": null,
   "metadata": {},
   "outputs": [],
   "source": [
    "#tree with stopping criteria max leaf nodes\n",
    "tree = DecisionTreeClassifier(max_leaf_nodes = 10) #change to whatever you want to test\n",
    "tree.fit(feature_train, target_train)\n",
    "\n",
    "print(\"Accuracy on training set: {:.3f}\".format(tree.score(feature_train, target_train)))\n",
    "print(\"Accuracy on test set: {:.3f}\".format(tree.score(feature_test, target_test)))\n",
    "\n",
    "results = model_selection.cross_val_score(tree, crossfold_features, crossfold_target, cv=kfold)\n",
    "print(results.mean())"
   ]
  },
  {
   "cell_type": "code",
   "execution_count": null,
   "metadata": {},
   "outputs": [],
   "source": [
    "#random forest testing\n",
    "forest = RandomForestClassifier(n_estimators=100, random_state=0)\n",
    "forest.fit(feature_train, target_train)\n",
    "\n",
    "print(\"Accuracy on training set: {:.3f}\".format(forest.score(feature_train, target_train)))\n",
    "print(\"Accuracy on test set: {:.3f}\".format(forest.score(feature_test, target_test)))\n",
    "\n",
    "results = model_selection.cross_val_score(forest, crossfold_features, crossfold_target, cv=kfold)\n",
    "print(results.mean())"
   ]
  },
  {
   "cell_type": "code",
   "execution_count": null,
   "metadata": {},
   "outputs": [],
   "source": [
    "#Knn with 3 neighbors\n",
    "knn = KNeighborsClassifier(n_neighbors = 3) \n",
    "knn.fit(feature_train, target_train)\n",
    "\n",
    "print(\"Accuracy on training set: {:.3f}\".format(knn.score(feature_train, target_train)))\n",
    "print(\"Accuracy on test set: {:.3f}\".format(knn.score(feature_test, target_test)))\n",
    "\n",
    "results = model_selection.cross_val_score(knn, crossfold_features, crossfold_target, cv=kfold)\n",
    "print(results.mean())"
   ]
  },
  {
   "cell_type": "code",
   "execution_count": null,
   "metadata": {},
   "outputs": [],
   "source": [
    "#Knn with 4 neighbors\n",
    "knn = KNeighborsClassifier(n_neighbors = 4) \n",
    "knn.fit(feature_train, target_train)\n",
    "\n",
    "print(\"Accuracy on training set: {:.3f}\".format(knn.score(feature_train, target_train)))\n",
    "print(\"Accuracy on test set: {:.3f}\".format(knn.score(feature_test, target_test)))\n",
    "\n",
    "results = model_selection.cross_val_score(knn, crossfold_features, crossfold_target, cv=kfold)\n",
    "print(results.mean())"
   ]
  },
  {
   "cell_type": "code",
   "execution_count": null,
   "metadata": {},
   "outputs": [],
   "source": [
    "#Knn with 5 neighbors\n",
    "knn = KNeighborsClassifier(n_neighbors = 3) \n",
    "knn.fit(feature_train, target_train)\n",
    "\n",
    "print(\"Accuracy on training set: {:.3f}\".format(knn.score(feature_train, target_train)))\n",
    "print(\"Accuracy on test set: {:.3f}\".format(knn.score(feature_test, target_test)))\n",
    "\n",
    "results = model_selection.cross_val_score(knn, crossfold_features, crossfold_target, cv=kfold)\n",
    "print(results.mean())"
   ]
  },
  {
   "cell_type": "code",
   "execution_count": null,
   "metadata": {},
   "outputs": [],
   "source": [
    "#bagged decision tree\n",
    "bagged_trees = 100\n",
    "baggedTree = BaggingClassifier(base_estimator=tree, n_estimators=bagged_trees, random_state=seed) #pick tree with best value\n",
    "baggedTree.fit(feature_train, target_train)\n",
    "\n",
    "print(\"Accuracy on training set: {:.3f}\".format(baggedTree.score(feature_train, target_train)))\n",
    "print(\"Accuracy on test set: {:.3f}\".format(baggedTree.score(feature_test, target_test)))\n",
    "\n",
    "results = model_selection.cross_val_score(baggedTree, crossfold_features, crossfold_target, cv=kfold)\n",
    "print(results.mean())"
   ]
  },
  {
   "cell_type": "code",
   "execution_count": null,
   "metadata": {},
   "outputs": [],
   "source": []
  }
 ],
 "metadata": {
  "kernelspec": {
   "display_name": "Python 3",
   "language": "python",
   "name": "python3"
  },
  "language_info": {
   "codemirror_mode": {
    "name": "ipython",
    "version": 3
   },
   "file_extension": ".py",
   "mimetype": "text/x-python",
   "name": "python",
   "nbconvert_exporter": "python",
   "pygments_lexer": "ipython3",
   "version": "3.6.4"
  }
 },
 "nbformat": 4,
 "nbformat_minor": 2
}
